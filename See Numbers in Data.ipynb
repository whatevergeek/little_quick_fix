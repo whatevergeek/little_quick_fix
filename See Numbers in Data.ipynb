{
  "metadata": {
    "language_info": {
      "mimetype": "text/x-python",
      "nbconvert_exporter": "python",
      "name": "python",
      "pygments_lexer": "ipython3",
      "version": "3.6.6",
      "file_extension": ".py",
      "codemirror_mode": {
        "version": 3,
        "name": "ipython"
      }
    },
    "kernelspec": {
      "name": "python36",
      "display_name": "Python 3.6",
      "language": "python"
    }
  },
  "nbformat_minor": 2,
  "nbformat": 4,
  "cells": [
    {
      "cell_type": "markdown",
      "source": "## Calculating Means and Medians",
      "metadata": {}
    },
    {
      "cell_type": "markdown",
      "source": "I recorded the units of alcohol I drank for the last two weeks. Grab a calculator and work out the mean and median amount. What do these tell you about my drinking habits?",
      "metadata": {}
    },
    {
      "cell_type": "code",
      "source": "consumption_per_day = [1,0,0,3,0,9,11,0,0,2,2,0,8,6]",
      "metadata": {
        "trusted": true
      },
      "execution_count": 1,
      "outputs": []
    },
    {
      "cell_type": "code",
      "source": "import pandas as pd",
      "metadata": {
        "trusted": true
      },
      "execution_count": 2,
      "outputs": []
    },
    {
      "cell_type": "code",
      "source": "df = pd.DataFrame(consumption_per_day, columns = ['consumption'])",
      "metadata": {
        "trusted": true
      },
      "execution_count": 3,
      "outputs": []
    },
    {
      "cell_type": "markdown",
      "source": "Sum of all the values",
      "metadata": {}
    },
    {
      "cell_type": "code",
      "source": "df.sum()",
      "metadata": {
        "trusted": true
      },
      "execution_count": 4,
      "outputs": [
        {
          "execution_count": 4,
          "output_type": "execute_result",
          "data": {
            "text/plain": "consumption    42\ndtype: int64"
          },
          "metadata": {}
        }
      ]
    },
    {
      "cell_type": "markdown",
      "source": "Number of cases",
      "metadata": {}
    },
    {
      "cell_type": "code",
      "source": "df.count()",
      "metadata": {
        "trusted": true
      },
      "execution_count": 5,
      "outputs": [
        {
          "execution_count": 5,
          "output_type": "execute_result",
          "data": {
            "text/plain": "consumption    14\ndtype: int64"
          },
          "metadata": {}
        }
      ]
    },
    {
      "cell_type": "markdown",
      "source": "The mean",
      "metadata": {}
    },
    {
      "cell_type": "code",
      "source": "df.mean()",
      "metadata": {
        "trusted": true
      },
      "execution_count": 6,
      "outputs": [
        {
          "execution_count": 6,
          "output_type": "execute_result",
          "data": {
            "text/plain": "consumption    3.0\ndtype: float64"
          },
          "metadata": {}
        }
      ]
    },
    {
      "cell_type": "markdown",
      "source": "Order of values from lowest to highest",
      "metadata": {}
    },
    {
      "cell_type": "code",
      "source": "df.sort_values(by='consumption')",
      "metadata": {
        "trusted": true
      },
      "execution_count": 7,
      "outputs": [
        {
          "execution_count": 7,
          "output_type": "execute_result",
          "data": {
            "text/html": "<div>\n<style scoped>\n    .dataframe tbody tr th:only-of-type {\n        vertical-align: middle;\n    }\n\n    .dataframe tbody tr th {\n        vertical-align: top;\n    }\n\n    .dataframe thead th {\n        text-align: right;\n    }\n</style>\n<table border=\"1\" class=\"dataframe\">\n  <thead>\n    <tr style=\"text-align: right;\">\n      <th></th>\n      <th>consumption</th>\n    </tr>\n  </thead>\n  <tbody>\n    <tr>\n      <th>1</th>\n      <td>0</td>\n    </tr>\n    <tr>\n      <th>2</th>\n      <td>0</td>\n    </tr>\n    <tr>\n      <th>4</th>\n      <td>0</td>\n    </tr>\n    <tr>\n      <th>7</th>\n      <td>0</td>\n    </tr>\n    <tr>\n      <th>8</th>\n      <td>0</td>\n    </tr>\n    <tr>\n      <th>11</th>\n      <td>0</td>\n    </tr>\n    <tr>\n      <th>0</th>\n      <td>1</td>\n    </tr>\n    <tr>\n      <th>9</th>\n      <td>2</td>\n    </tr>\n    <tr>\n      <th>10</th>\n      <td>2</td>\n    </tr>\n    <tr>\n      <th>3</th>\n      <td>3</td>\n    </tr>\n    <tr>\n      <th>13</th>\n      <td>6</td>\n    </tr>\n    <tr>\n      <th>12</th>\n      <td>8</td>\n    </tr>\n    <tr>\n      <th>5</th>\n      <td>9</td>\n    </tr>\n    <tr>\n      <th>6</th>\n      <td>11</td>\n    </tr>\n  </tbody>\n</table>\n</div>",
            "text/plain": "    consumption\n1             0\n2             0\n4             0\n7             0\n8             0\n11            0\n0             1\n9             2\n10            2\n3             3\n13            6\n12            8\n5             9\n6            11"
          },
          "metadata": {}
        }
      ]
    },
    {
      "cell_type": "markdown",
      "source": "Rank of values from lowest to highest",
      "metadata": {}
    },
    {
      "cell_type": "code",
      "source": "df.sort_values(by='consumption').reset_index()",
      "metadata": {
        "trusted": true
      },
      "execution_count": 8,
      "outputs": [
        {
          "execution_count": 8,
          "output_type": "execute_result",
          "data": {
            "text/html": "<div>\n<style scoped>\n    .dataframe tbody tr th:only-of-type {\n        vertical-align: middle;\n    }\n\n    .dataframe tbody tr th {\n        vertical-align: top;\n    }\n\n    .dataframe thead th {\n        text-align: right;\n    }\n</style>\n<table border=\"1\" class=\"dataframe\">\n  <thead>\n    <tr style=\"text-align: right;\">\n      <th></th>\n      <th>index</th>\n      <th>consumption</th>\n    </tr>\n  </thead>\n  <tbody>\n    <tr>\n      <th>0</th>\n      <td>1</td>\n      <td>0</td>\n    </tr>\n    <tr>\n      <th>1</th>\n      <td>2</td>\n      <td>0</td>\n    </tr>\n    <tr>\n      <th>2</th>\n      <td>4</td>\n      <td>0</td>\n    </tr>\n    <tr>\n      <th>3</th>\n      <td>7</td>\n      <td>0</td>\n    </tr>\n    <tr>\n      <th>4</th>\n      <td>8</td>\n      <td>0</td>\n    </tr>\n    <tr>\n      <th>5</th>\n      <td>11</td>\n      <td>0</td>\n    </tr>\n    <tr>\n      <th>6</th>\n      <td>0</td>\n      <td>1</td>\n    </tr>\n    <tr>\n      <th>7</th>\n      <td>9</td>\n      <td>2</td>\n    </tr>\n    <tr>\n      <th>8</th>\n      <td>10</td>\n      <td>2</td>\n    </tr>\n    <tr>\n      <th>9</th>\n      <td>3</td>\n      <td>3</td>\n    </tr>\n    <tr>\n      <th>10</th>\n      <td>13</td>\n      <td>6</td>\n    </tr>\n    <tr>\n      <th>11</th>\n      <td>12</td>\n      <td>8</td>\n    </tr>\n    <tr>\n      <th>12</th>\n      <td>5</td>\n      <td>9</td>\n    </tr>\n    <tr>\n      <th>13</th>\n      <td>6</td>\n      <td>11</td>\n    </tr>\n  </tbody>\n</table>\n</div>",
            "text/plain": "    index  consumption\n0       1            0\n1       2            0\n2       4            0\n3       7            0\n4       8            0\n5      11            0\n6       0            1\n7       9            2\n8      10            2\n9       3            3\n10     13            6\n11     12            8\n12      5            9\n13      6           11"
          },
          "metadata": {}
        }
      ]
    },
    {
      "cell_type": "markdown",
      "source": "The median",
      "metadata": {}
    },
    {
      "cell_type": "code",
      "source": "df.sort_values(by='consumption').reset_index().median()",
      "metadata": {
        "trusted": true
      },
      "execution_count": 9,
      "outputs": [
        {
          "execution_count": 9,
          "output_type": "execute_result",
          "data": {
            "text/plain": "index          6.5\nconsumption    1.5\ndtype: float64"
          },
          "metadata": {}
        }
      ]
    },
    {
      "cell_type": "markdown",
      "source": "So what can you say about my drinking habits?",
      "metadata": {}
    },
    {
      "cell_type": "code",
      "source": "import matplotlib.pyplot as plt\n%matplotlib inline",
      "metadata": {
        "trusted": true
      },
      "execution_count": 10,
      "outputs": []
    },
    {
      "cell_type": "code",
      "source": "xs, ys = zip(*[(index+1, row['consumption']) for index, row in df.iterrows()])",
      "metadata": {
        "trusted": true
      },
      "execution_count": 11,
      "outputs": []
    },
    {
      "cell_type": "code",
      "source": "width_in_inches = 10\nheight_in_inches = 8\ndots_per_inch = 70\n\nplt.figure(\n    figsize=(width_in_inches, height_in_inches),\n    dpi=dots_per_inch)\n\nplt.bar(xs,ys)\n\n# zip joins x and y coordinates in pairs\nfor x,y in zip(xs,ys):\n\n    label = \"{:.2f}\".format(y)\n\n    plt.annotate(label, # this is the text\n                 (x,y), # this is the point to label\n                 textcoords=\"offset points\", # how to position the text\n                 xytext=(0,10), # distance from text to points (x,y)\n                 ha='center') # horizontal alignment can be left, right or center\nplt.figure(figsize=(40,40))\nplt.show()",
      "metadata": {
        "trusted": true
      },
      "execution_count": 12,
      "outputs": [
        {
          "output_type": "display_data",
          "data": {
            "image/png": "[encoded data removed]",
            "text/plain": "<Figure size 700x560 with 1 Axes>"
          },
          "metadata": {
            "needs_background": "light"
          }
        },
        {
          "output_type": "display_data",
          "data": {
            "text/plain": "<Figure size 2880x2880 with 0 Axes>"
          },
          "metadata": {}
        }
      ]
    },
    {
      "cell_type": "markdown",
      "source": "Applying mean and median for the whole set is quite bad. On average, you drink around 3 per day. But, that is skewed by your weekend consumption which is around 6-11 per day. Median doesn't make sense as you're not comparing how good a certain day is versus the rest. Mode might make sense as you'd like to know how many usually you take.",
      "metadata": {}
    },
    {
      "cell_type": "markdown",
      "source": "Here's the mode",
      "metadata": {}
    },
    {
      "cell_type": "code",
      "source": "df.mode()",
      "metadata": {
        "trusted": true
      },
      "execution_count": 13,
      "outputs": [
        {
          "execution_count": 13,
          "output_type": "execute_result",
          "data": {
            "text/html": "<div>\n<style scoped>\n    .dataframe tbody tr th:only-of-type {\n        vertical-align: middle;\n    }\n\n    .dataframe tbody tr th {\n        vertical-align: top;\n    }\n\n    .dataframe thead th {\n        text-align: right;\n    }\n</style>\n<table border=\"1\" class=\"dataframe\">\n  <thead>\n    <tr style=\"text-align: right;\">\n      <th></th>\n      <th>consumption</th>\n    </tr>\n  </thead>\n  <tbody>\n    <tr>\n      <th>0</th>\n      <td>0</td>\n    </tr>\n  </tbody>\n</table>\n</div>",
            "text/plain": "   consumption\n0            0"
          },
          "metadata": {}
        }
      ]
    },
    {
      "cell_type": "markdown",
      "source": "yup, usually you don't drink, but when you do:",
      "metadata": {}
    },
    {
      "cell_type": "code",
      "source": "weekday_consumption_df = df.drop([5,6,12,13])[df['consumption'] != 0]\nweekend_consumption_df = df.iloc[[5,6,12,13],:]",
      "metadata": {
        "trusted": true
      },
      "execution_count": 16,
      "outputs": [
        {
          "text": "/home/nbuser/anaconda3_501/lib/python3.6/site-packages/ipykernel/__main__.py:1: UserWarning: Boolean Series key will be reindexed to match DataFrame index.\n  if __name__ == '__main__':\n",
          "name": "stderr",
          "output_type": "stream"
        }
      ]
    },
    {
      "cell_type": "code",
      "source": "print(f\"During weekdays, you take around {weekday_consumption_df['consumption'].mean()} on average.\")\nprint(f\"During weekends, you take around {weekend_consumption_df['consumption'].mean()} on average.\")",
      "metadata": {
        "trusted": true
      },
      "execution_count": 17,
      "outputs": [
        {
          "text": "During weekdays, you take around 2.0 on average.\nDuring weekends, you take around 8.5 on average.\n",
          "name": "stdout",
          "output_type": "stream"
        }
      ]
    },
    {
      "cell_type": "code",
      "source": "",
      "metadata": {},
      "execution_count": null,
      "outputs": []
    }
  ]
}