{
 "cells": [
  {
   "cell_type": "markdown",
   "metadata": {},
   "source": [
    "## Calculating Means and Medians"
   ]
  },
  {
   "cell_type": "markdown",
   "metadata": {},
   "source": [
    "I recorded the units of alcohol I drank for the last two weeks. Grab a calculator and work out the mean and median amount. What do these tell you about my drinking habits?"
   ]
  },
  {
   "cell_type": "code",
   "execution_count": 1,
   "metadata": {},
   "outputs": [],
   "source": [
    "%load_ext lab_black"
   ]
  },
  {
   "cell_type": "code",
   "execution_count": 2,
   "metadata": {},
   "outputs": [],
   "source": [
    "consumption_per_day = [1, 0, 0, 3, 0, 9, 11, 0, 0, 2, 2, 0, 8, 6]"
   ]
  },
  {
   "cell_type": "code",
   "execution_count": 3,
   "metadata": {},
   "outputs": [],
   "source": [
    "import pandas as pd"
   ]
  },
  {
   "cell_type": "code",
   "execution_count": 4,
   "metadata": {},
   "outputs": [],
   "source": [
    "df = pd.DataFrame(consumption_per_day, columns=[\"consumption\"])"
   ]
  },
  {
   "cell_type": "markdown",
   "metadata": {},
   "source": [
    "Sum of all the values"
   ]
  },
  {
   "cell_type": "code",
   "execution_count": 5,
   "metadata": {},
   "outputs": [
    {
     "data": {
      "text/plain": [
       "consumption    42\n",
       "dtype: int64"
      ]
     },
     "execution_count": 5,
     "metadata": {},
     "output_type": "execute_result"
    }
   ],
   "source": [
    "df.sum()"
   ]
  },
  {
   "cell_type": "markdown",
   "metadata": {},
   "source": [
    "Number of cases"
   ]
  },
  {
   "cell_type": "code",
   "execution_count": 6,
   "metadata": {},
   "outputs": [
    {
     "data": {
      "text/plain": [
       "consumption    14\n",
       "dtype: int64"
      ]
     },
     "execution_count": 6,
     "metadata": {},
     "output_type": "execute_result"
    }
   ],
   "source": [
    "df.count()"
   ]
  },
  {
   "cell_type": "markdown",
   "metadata": {},
   "source": [
    "The mean"
   ]
  },
  {
   "cell_type": "code",
   "execution_count": 7,
   "metadata": {},
   "outputs": [
    {
     "data": {
      "text/plain": [
       "consumption    3.0\n",
       "dtype: float64"
      ]
     },
     "execution_count": 7,
     "metadata": {},
     "output_type": "execute_result"
    }
   ],
   "source": [
    "df.mean()"
   ]
  },
  {
   "cell_type": "markdown",
   "metadata": {},
   "source": [
    "Order of values from lowest to highest"
   ]
  },
  {
   "cell_type": "code",
   "execution_count": 8,
   "metadata": {},
   "outputs": [
    {
     "data": {
      "text/html": [
       "<div>\n",
       "<style scoped>\n",
       "    .dataframe tbody tr th:only-of-type {\n",
       "        vertical-align: middle;\n",
       "    }\n",
       "\n",
       "    .dataframe tbody tr th {\n",
       "        vertical-align: top;\n",
       "    }\n",
       "\n",
       "    .dataframe thead th {\n",
       "        text-align: right;\n",
       "    }\n",
       "</style>\n",
       "<table border=\"1\" class=\"dataframe\">\n",
       "  <thead>\n",
       "    <tr style=\"text-align: right;\">\n",
       "      <th></th>\n",
       "      <th>consumption</th>\n",
       "    </tr>\n",
       "  </thead>\n",
       "  <tbody>\n",
       "    <tr>\n",
       "      <th>1</th>\n",
       "      <td>0</td>\n",
       "    </tr>\n",
       "    <tr>\n",
       "      <th>2</th>\n",
       "      <td>0</td>\n",
       "    </tr>\n",
       "    <tr>\n",
       "      <th>4</th>\n",
       "      <td>0</td>\n",
       "    </tr>\n",
       "    <tr>\n",
       "      <th>7</th>\n",
       "      <td>0</td>\n",
       "    </tr>\n",
       "    <tr>\n",
       "      <th>8</th>\n",
       "      <td>0</td>\n",
       "    </tr>\n",
       "    <tr>\n",
       "      <th>11</th>\n",
       "      <td>0</td>\n",
       "    </tr>\n",
       "    <tr>\n",
       "      <th>0</th>\n",
       "      <td>1</td>\n",
       "    </tr>\n",
       "    <tr>\n",
       "      <th>9</th>\n",
       "      <td>2</td>\n",
       "    </tr>\n",
       "    <tr>\n",
       "      <th>10</th>\n",
       "      <td>2</td>\n",
       "    </tr>\n",
       "    <tr>\n",
       "      <th>3</th>\n",
       "      <td>3</td>\n",
       "    </tr>\n",
       "    <tr>\n",
       "      <th>13</th>\n",
       "      <td>6</td>\n",
       "    </tr>\n",
       "    <tr>\n",
       "      <th>12</th>\n",
       "      <td>8</td>\n",
       "    </tr>\n",
       "    <tr>\n",
       "      <th>5</th>\n",
       "      <td>9</td>\n",
       "    </tr>\n",
       "    <tr>\n",
       "      <th>6</th>\n",
       "      <td>11</td>\n",
       "    </tr>\n",
       "  </tbody>\n",
       "</table>\n",
       "</div>"
      ],
      "text/plain": [
       "    consumption\n",
       "1             0\n",
       "2             0\n",
       "4             0\n",
       "7             0\n",
       "8             0\n",
       "11            0\n",
       "0             1\n",
       "9             2\n",
       "10            2\n",
       "3             3\n",
       "13            6\n",
       "12            8\n",
       "5             9\n",
       "6            11"
      ]
     },
     "execution_count": 8,
     "metadata": {},
     "output_type": "execute_result"
    }
   ],
   "source": [
    "df.sort_values(by=\"consumption\")"
   ]
  },
  {
   "cell_type": "markdown",
   "metadata": {},
   "source": [
    "Rank of values from lowest to highest"
   ]
  },
  {
   "cell_type": "code",
   "execution_count": 9,
   "metadata": {},
   "outputs": [
    {
     "data": {
      "text/html": [
       "<div>\n",
       "<style scoped>\n",
       "    .dataframe tbody tr th:only-of-type {\n",
       "        vertical-align: middle;\n",
       "    }\n",
       "\n",
       "    .dataframe tbody tr th {\n",
       "        vertical-align: top;\n",
       "    }\n",
       "\n",
       "    .dataframe thead th {\n",
       "        text-align: right;\n",
       "    }\n",
       "</style>\n",
       "<table border=\"1\" class=\"dataframe\">\n",
       "  <thead>\n",
       "    <tr style=\"text-align: right;\">\n",
       "      <th></th>\n",
       "      <th>index</th>\n",
       "      <th>consumption</th>\n",
       "    </tr>\n",
       "  </thead>\n",
       "  <tbody>\n",
       "    <tr>\n",
       "      <th>0</th>\n",
       "      <td>1</td>\n",
       "      <td>0</td>\n",
       "    </tr>\n",
       "    <tr>\n",
       "      <th>1</th>\n",
       "      <td>2</td>\n",
       "      <td>0</td>\n",
       "    </tr>\n",
       "    <tr>\n",
       "      <th>2</th>\n",
       "      <td>4</td>\n",
       "      <td>0</td>\n",
       "    </tr>\n",
       "    <tr>\n",
       "      <th>3</th>\n",
       "      <td>7</td>\n",
       "      <td>0</td>\n",
       "    </tr>\n",
       "    <tr>\n",
       "      <th>4</th>\n",
       "      <td>8</td>\n",
       "      <td>0</td>\n",
       "    </tr>\n",
       "    <tr>\n",
       "      <th>5</th>\n",
       "      <td>11</td>\n",
       "      <td>0</td>\n",
       "    </tr>\n",
       "    <tr>\n",
       "      <th>6</th>\n",
       "      <td>0</td>\n",
       "      <td>1</td>\n",
       "    </tr>\n",
       "    <tr>\n",
       "      <th>7</th>\n",
       "      <td>9</td>\n",
       "      <td>2</td>\n",
       "    </tr>\n",
       "    <tr>\n",
       "      <th>8</th>\n",
       "      <td>10</td>\n",
       "      <td>2</td>\n",
       "    </tr>\n",
       "    <tr>\n",
       "      <th>9</th>\n",
       "      <td>3</td>\n",
       "      <td>3</td>\n",
       "    </tr>\n",
       "    <tr>\n",
       "      <th>10</th>\n",
       "      <td>13</td>\n",
       "      <td>6</td>\n",
       "    </tr>\n",
       "    <tr>\n",
       "      <th>11</th>\n",
       "      <td>12</td>\n",
       "      <td>8</td>\n",
       "    </tr>\n",
       "    <tr>\n",
       "      <th>12</th>\n",
       "      <td>5</td>\n",
       "      <td>9</td>\n",
       "    </tr>\n",
       "    <tr>\n",
       "      <th>13</th>\n",
       "      <td>6</td>\n",
       "      <td>11</td>\n",
       "    </tr>\n",
       "  </tbody>\n",
       "</table>\n",
       "</div>"
      ],
      "text/plain": [
       "    index  consumption\n",
       "0       1            0\n",
       "1       2            0\n",
       "2       4            0\n",
       "3       7            0\n",
       "4       8            0\n",
       "5      11            0\n",
       "6       0            1\n",
       "7       9            2\n",
       "8      10            2\n",
       "9       3            3\n",
       "10     13            6\n",
       "11     12            8\n",
       "12      5            9\n",
       "13      6           11"
      ]
     },
     "execution_count": 9,
     "metadata": {},
     "output_type": "execute_result"
    }
   ],
   "source": [
    "df.sort_values(by=\"consumption\").reset_index()"
   ]
  },
  {
   "cell_type": "markdown",
   "metadata": {},
   "source": [
    "The median"
   ]
  },
  {
   "cell_type": "code",
   "execution_count": 10,
   "metadata": {},
   "outputs": [
    {
     "data": {
      "text/plain": [
       "index          6.5\n",
       "consumption    1.5\n",
       "dtype: float64"
      ]
     },
     "execution_count": 10,
     "metadata": {},
     "output_type": "execute_result"
    }
   ],
   "source": [
    "df.sort_values(by=\"consumption\").reset_index().median()"
   ]
  },
  {
   "cell_type": "markdown",
   "metadata": {},
   "source": [
    "So what can you say about my drinking habits?"
   ]
  },
  {
   "cell_type": "code",
   "execution_count": 11,
   "metadata": {},
   "outputs": [],
   "source": [
    "import matplotlib.pyplot as plt\n",
    "\n",
    "%matplotlib inline"
   ]
  },
  {
   "cell_type": "code",
   "execution_count": 12,
   "metadata": {},
   "outputs": [],
   "source": [
    "xs, ys = zip(*[(index + 1, row[\"consumption\"]) for index, row in df.iterrows()])"
   ]
  },
  {
   "cell_type": "code",
   "execution_count": 13,
   "metadata": {},
   "outputs": [
    {
     "data": {
      "image/png": "[encoded data removed]",
      "text/plain": [
       "<Figure size 700x560 with 1 Axes>"
      ]
     },
     "metadata": {
      "needs_background": "light"
     },
     "output_type": "display_data"
    },
    {
     "data": {
      "text/plain": [
       "<Figure size 2880x2880 with 0 Axes>"
      ]
     },
     "metadata": {},
     "output_type": "display_data"
    }
   ],
   "source": [
    "width_in_inches = 10\n",
    "height_in_inches = 8\n",
    "dots_per_inch = 70\n",
    "\n",
    "plt.figure(figsize=(width_in_inches, height_in_inches), dpi=dots_per_inch)\n",
    "\n",
    "plt.bar(xs, ys)\n",
    "\n",
    "# zip joins x and y coordinates in pairs\n",
    "for x, y in zip(xs, ys):\n",
    "\n",
    "    label = \"{:.2f}\".format(y)\n",
    "\n",
    "    plt.annotate(\n",
    "        label,  # this is the text\n",
    "        (x, y),  # this is the point to label\n",
    "        textcoords=\"offset points\",  # how to position the text\n",
    "        xytext=(0, 10),  # distance from text to points (x,y)\n",
    "        ha=\"center\",\n",
    "    )  # horizontal alignment can be left, right or center\n",
    "plt.figure(figsize=(40, 40))\n",
    "plt.show()"
   ]
  },
  {
   "cell_type": "markdown",
   "metadata": {},
   "source": [
    "Applying mean and median for the whole set is quite bad. On average, you drink around 3 per day. But, that is skewed by your weekend consumption which is around 6-11 per day. Median doesn't make sense as you're not comparing how good a certain day is versus the rest. Mode might make sense as you'd like to know how many usually you take."
   ]
  },
  {
   "cell_type": "markdown",
   "metadata": {},
   "source": [
    "Here's the mode"
   ]
  },
  {
   "cell_type": "code",
   "execution_count": 14,
   "metadata": {},
   "outputs": [
    {
     "data": {
      "text/html": [
       "<div>\n",
       "<style scoped>\n",
       "    .dataframe tbody tr th:only-of-type {\n",
       "        vertical-align: middle;\n",
       "    }\n",
       "\n",
       "    .dataframe tbody tr th {\n",
       "        vertical-align: top;\n",
       "    }\n",
       "\n",
       "    .dataframe thead th {\n",
       "        text-align: right;\n",
       "    }\n",
       "</style>\n",
       "<table border=\"1\" class=\"dataframe\">\n",
       "  <thead>\n",
       "    <tr style=\"text-align: right;\">\n",
       "      <th></th>\n",
       "      <th>consumption</th>\n",
       "    </tr>\n",
       "  </thead>\n",
       "  <tbody>\n",
       "    <tr>\n",
       "      <th>0</th>\n",
       "      <td>0</td>\n",
       "    </tr>\n",
       "  </tbody>\n",
       "</table>\n",
       "</div>"
      ],
      "text/plain": [
       "   consumption\n",
       "0            0"
      ]
     },
     "execution_count": 14,
     "metadata": {},
     "output_type": "execute_result"
    }
   ],
   "source": [
    "df.mode()"
   ]
  },
  {
   "cell_type": "markdown",
   "metadata": {},
   "source": [
    "yup, usually you don't drink, but when you do:"
   ]
  },
  {
   "cell_type": "code",
   "execution_count": 15,
   "metadata": {},
   "outputs": [
    {
     "name": "stderr",
     "output_type": "stream",
     "text": [
      "D:\\ProgramData\\Anaconda3\\envs\\datascience\\lib\\site-packages\\ipykernel_launcher.py:1: UserWarning: Boolean Series key will be reindexed to match DataFrame index.\n",
      "  \"\"\"Entry point for launching an IPython kernel.\n"
     ]
    }
   ],
   "source": [
    "weekday_consumption_df = df.drop([5, 6, 12, 13])[df[\"consumption\"] != 0]\n",
    "weekend_consumption_df = df.iloc[[5, 6, 12, 13], :]"
   ]
  },
  {
   "cell_type": "code",
   "execution_count": 16,
   "metadata": {},
   "outputs": [
    {
     "name": "stdout",
     "output_type": "stream",
     "text": [
      "During weekdays, you take around 2.0 on average.\n",
      "During weekends, you take around 8.5 on average.\n"
     ]
    }
   ],
   "source": [
    "print(\n",
    "    f\"During weekdays, you take around {weekday_consumption_df['consumption'].mean()} on average.\"\n",
    ")\n",
    "print(\n",
    "    f\"During weekends, you take around {weekend_consumption_df['consumption'].mean()} on average.\"\n",
    ")"
   ]
  },
  {
   "cell_type": "markdown",
   "metadata": {},
   "source": [
    "## What is the spread or dispersion of data?"
   ]
  },
  {
   "cell_type": "markdown",
   "metadata": {},
   "source": [
    "### How to calculate the interquartile range?"
   ]
  },
  {
   "cell_type": "code",
   "execution_count": 17,
   "metadata": {},
   "outputs": [],
   "source": [
    "country_religion_value = pd.read_csv(\"country_religion_value.csv\")"
   ]
  },
  {
   "cell_type": "code",
   "execution_count": 18,
   "metadata": {},
   "outputs": [
    {
     "data": {
      "text/html": [
       "<div>\n",
       "<style scoped>\n",
       "    .dataframe tbody tr th:only-of-type {\n",
       "        vertical-align: middle;\n",
       "    }\n",
       "\n",
       "    .dataframe tbody tr th {\n",
       "        vertical-align: top;\n",
       "    }\n",
       "\n",
       "    .dataframe thead th {\n",
       "        text-align: right;\n",
       "    }\n",
       "</style>\n",
       "<table border=\"1\" class=\"dataframe\">\n",
       "  <thead>\n",
       "    <tr style=\"text-align: right;\">\n",
       "      <th></th>\n",
       "      <th>percent</th>\n",
       "    </tr>\n",
       "  </thead>\n",
       "  <tbody>\n",
       "    <tr>\n",
       "      <th>count</th>\n",
       "      <td>21.000000</td>\n",
       "    </tr>\n",
       "    <tr>\n",
       "      <th>mean</th>\n",
       "      <td>41.619048</td>\n",
       "    </tr>\n",
       "    <tr>\n",
       "      <th>std</th>\n",
       "      <td>31.958530</td>\n",
       "    </tr>\n",
       "    <tr>\n",
       "      <th>min</th>\n",
       "      <td>3.000000</td>\n",
       "    </tr>\n",
       "    <tr>\n",
       "      <th>25%</th>\n",
       "      <td>14.000000</td>\n",
       "    </tr>\n",
       "    <tr>\n",
       "      <th>50%</th>\n",
       "      <td>26.000000</td>\n",
       "    </tr>\n",
       "    <tr>\n",
       "      <th>75%</th>\n",
       "      <td>67.000000</td>\n",
       "    </tr>\n",
       "    <tr>\n",
       "      <th>max</th>\n",
       "      <td>94.000000</td>\n",
       "    </tr>\n",
       "  </tbody>\n",
       "</table>\n",
       "</div>"
      ],
      "text/plain": [
       "         percent\n",
       "count  21.000000\n",
       "mean   41.619048\n",
       "std    31.958530\n",
       "min     3.000000\n",
       "25%    14.000000\n",
       "50%    26.000000\n",
       "75%    67.000000\n",
       "max    94.000000"
      ]
     },
     "execution_count": 18,
     "metadata": {},
     "output_type": "execute_result"
    }
   ],
   "source": [
    "country_religion_value.describe()"
   ]
  },
  {
   "cell_type": "code",
   "execution_count": 19,
   "metadata": {},
   "outputs": [
    {
     "data": {
      "text/html": [
       "<div>\n",
       "<style scoped>\n",
       "    .dataframe tbody tr th:only-of-type {\n",
       "        vertical-align: middle;\n",
       "    }\n",
       "\n",
       "    .dataframe tbody tr th {\n",
       "        vertical-align: top;\n",
       "    }\n",
       "\n",
       "    .dataframe thead th {\n",
       "        text-align: right;\n",
       "    }\n",
       "</style>\n",
       "<table border=\"1\" class=\"dataframe\">\n",
       "  <thead>\n",
       "    <tr style=\"text-align: right;\">\n",
       "      <th></th>\n",
       "      <th>percent</th>\n",
       "    </tr>\n",
       "  </thead>\n",
       "  <tbody>\n",
       "    <tr>\n",
       "      <th>0.00</th>\n",
       "      <td>3.0</td>\n",
       "    </tr>\n",
       "    <tr>\n",
       "      <th>0.25</th>\n",
       "      <td>14.0</td>\n",
       "    </tr>\n",
       "    <tr>\n",
       "      <th>0.50</th>\n",
       "      <td>26.0</td>\n",
       "    </tr>\n",
       "    <tr>\n",
       "      <th>0.75</th>\n",
       "      <td>67.0</td>\n",
       "    </tr>\n",
       "    <tr>\n",
       "      <th>1.00</th>\n",
       "      <td>94.0</td>\n",
       "    </tr>\n",
       "  </tbody>\n",
       "</table>\n",
       "</div>"
      ],
      "text/plain": [
       "      percent\n",
       "0.00      3.0\n",
       "0.25     14.0\n",
       "0.50     26.0\n",
       "0.75     67.0\n",
       "1.00     94.0"
      ]
     },
     "execution_count": 19,
     "metadata": {},
     "output_type": "execute_result"
    }
   ],
   "source": [
    "country_religion_value.quantile([0, 0.25, 0.5, 0.75, 1])"
   ]
  },
  {
   "cell_type": "code",
   "execution_count": 20,
   "metadata": {},
   "outputs": [],
   "source": [
    "cr_quantile = country_religion_value.quantile([0, 0.25, 0.5, 0.75, 1])[\"percent\"]"
   ]
  },
  {
   "cell_type": "code",
   "execution_count": 21,
   "metadata": {},
   "outputs": [
    {
     "name": "stdout",
     "output_type": "stream",
     "text": [
      "Minimum: 3.0\n",
      "Lower Quartile: 14.0\n",
      "Median: 26.0\n",
      "Upper Quartile: 67.0\n",
      "Maximum: 94.0\n",
      "Interquarile Range: 53.0\n"
     ]
    }
   ],
   "source": [
    "print(f\"Minimum: {cr_quantile[0]}\")\n",
    "print(f\"Lower Quartile: {cr_quantile[0.25]}\")\n",
    "print(f\"Median: {cr_quantile[0.5]}\")\n",
    "print(f\"Upper Quartile: {cr_quantile[0.75]}\")\n",
    "print(f\"Maximum: {cr_quantile[1]}\")\n",
    "\n",
    "\n",
    "print(f\"Interquarile Range: {cr_quantile[0.75] - cr_quantile[0.25]}\")"
   ]
  },
  {
   "cell_type": "code",
   "execution_count": 22,
   "metadata": {},
   "outputs": [
    {
     "data": {
      "text/html": [
       "<style  type=\"text/css\" >\n",
       "    #T_1e8749e6_dd51_11e9_beb3_d8c497c31645row0_col0 {\n",
       "            background:  lightgreen;\n",
       "        }    #T_1e8749e6_dd51_11e9_beb3_d8c497c31645row0_col1 {\n",
       "            background:  lightgreen;\n",
       "        }    #T_1e8749e6_dd51_11e9_beb3_d8c497c31645row5_col0 {\n",
       "            background:  lightgreen;\n",
       "        }    #T_1e8749e6_dd51_11e9_beb3_d8c497c31645row5_col1 {\n",
       "            background:  lightgreen;\n",
       "        }    #T_1e8749e6_dd51_11e9_beb3_d8c497c31645row10_col0 {\n",
       "            background:  lightgreen;\n",
       "        }    #T_1e8749e6_dd51_11e9_beb3_d8c497c31645row10_col1 {\n",
       "            background:  lightgreen;\n",
       "        }    #T_1e8749e6_dd51_11e9_beb3_d8c497c31645row11_col0 {\n",
       "            background:  lightgreen;\n",
       "        }    #T_1e8749e6_dd51_11e9_beb3_d8c497c31645row11_col1 {\n",
       "            background:  lightgreen;\n",
       "        }    #T_1e8749e6_dd51_11e9_beb3_d8c497c31645row15_col0 {\n",
       "            background:  lightgreen;\n",
       "        }    #T_1e8749e6_dd51_11e9_beb3_d8c497c31645row15_col1 {\n",
       "            background:  lightgreen;\n",
       "        }    #T_1e8749e6_dd51_11e9_beb3_d8c497c31645row20_col0 {\n",
       "            background:  lightgreen;\n",
       "        }    #T_1e8749e6_dd51_11e9_beb3_d8c497c31645row20_col1 {\n",
       "            background:  lightgreen;\n",
       "        }</style><table id=\"T_1e8749e6_dd51_11e9_beb3_d8c497c31645\" ><thead>    <tr>        <th class=\"blank level0\" ></th>        <th class=\"col_heading level0 col0\" >country</th>        <th class=\"col_heading level0 col1\" >percent</th>    </tr></thead><tbody>\n",
       "                <tr>\n",
       "                        <th id=\"T_1e8749e6_dd51_11e9_beb3_d8c497c31645level0_row0\" class=\"row_heading level0 row0\" >5</th>\n",
       "                        <td id=\"T_1e8749e6_dd51_11e9_beb3_d8c497c31645row0_col0\" class=\"data row0 col0\" >Egypt</td>\n",
       "                        <td id=\"T_1e8749e6_dd51_11e9_beb3_d8c497c31645row0_col1\" class=\"data row0 col1\" >94</td>\n",
       "            </tr>\n",
       "            <tr>\n",
       "                        <th id=\"T_1e8749e6_dd51_11e9_beb3_d8c497c31645level0_row1\" class=\"row_heading level0 row1\" >12</th>\n",
       "                        <td id=\"T_1e8749e6_dd51_11e9_beb3_d8c497c31645row1_col0\" class=\"data row1 col0\" >Pakistan</td>\n",
       "                        <td id=\"T_1e8749e6_dd51_11e9_beb3_d8c497c31645row1_col1\" class=\"data row1 col1\" >90</td>\n",
       "            </tr>\n",
       "            <tr>\n",
       "                        <th id=\"T_1e8749e6_dd51_11e9_beb3_d8c497c31645level0_row2\" class=\"row_heading level0 row2\" >11</th>\n",
       "                        <td id=\"T_1e8749e6_dd51_11e9_beb3_d8c497c31645row2_col0\" class=\"data row2 col0\" >Nigeria</td>\n",
       "                        <td id=\"T_1e8749e6_dd51_11e9_beb3_d8c497c31645row2_col1\" class=\"data row2 col1\" >90</td>\n",
       "            </tr>\n",
       "            <tr>\n",
       "                        <th id=\"T_1e8749e6_dd51_11e9_beb3_d8c497c31645level0_row3\" class=\"row_heading level0 row3\" >13</th>\n",
       "                        <td id=\"T_1e8749e6_dd51_11e9_beb3_d8c497c31645row3_col0\" class=\"data row3 col0\" >Philippines</td>\n",
       "                        <td id=\"T_1e8749e6_dd51_11e9_beb3_d8c497c31645row3_col1\" class=\"data row3 col1\" >86</td>\n",
       "            </tr>\n",
       "            <tr>\n",
       "                        <th id=\"T_1e8749e6_dd51_11e9_beb3_d8c497c31645level0_row4\" class=\"row_heading level0 row4\" >9</th>\n",
       "                        <td id=\"T_1e8749e6_dd51_11e9_beb3_d8c497c31645row4_col0\" class=\"data row4 col0\" >Iraq</td>\n",
       "                        <td id=\"T_1e8749e6_dd51_11e9_beb3_d8c497c31645row4_col1\" class=\"data row4 col1\" >85</td>\n",
       "            </tr>\n",
       "            <tr>\n",
       "                        <th id=\"T_1e8749e6_dd51_11e9_beb3_d8c497c31645level0_row5\" class=\"row_heading level0 row5\" >8</th>\n",
       "                        <td id=\"T_1e8749e6_dd51_11e9_beb3_d8c497c31645row5_col0\" class=\"data row5 col0\" >India</td>\n",
       "                        <td id=\"T_1e8749e6_dd51_11e9_beb3_d8c497c31645row5_col1\" class=\"data row5 col1\" >67</td>\n",
       "            </tr>\n",
       "            <tr>\n",
       "                        <th id=\"T_1e8749e6_dd51_11e9_beb3_d8c497c31645level0_row6\" class=\"row_heading level0 row6\" >16</th>\n",
       "                        <td id=\"T_1e8749e6_dd51_11e9_beb3_d8c497c31645row6_col0\" class=\"data row6 col0\" >South Africa</td>\n",
       "                        <td id=\"T_1e8749e6_dd51_11e9_beb3_d8c497c31645row6_col1\" class=\"data row6 col1\" >56</td>\n",
       "            </tr>\n",
       "            <tr>\n",
       "                        <th id=\"T_1e8749e6_dd51_11e9_beb3_d8c497c31645level0_row7\" class=\"row_heading level0 row7\" >2</th>\n",
       "                        <td id=\"T_1e8749e6_dd51_11e9_beb3_d8c497c31645row7_col0\" class=\"data row7 col0\" >Brazil</td>\n",
       "                        <td id=\"T_1e8749e6_dd51_11e9_beb3_d8c497c31645row7_col1\" class=\"data row7 col1\" >52</td>\n",
       "            </tr>\n",
       "            <tr>\n",
       "                        <th id=\"T_1e8749e6_dd51_11e9_beb3_d8c497c31645level0_row8\" class=\"row_heading level0 row8\" >15</th>\n",
       "                        <td id=\"T_1e8749e6_dd51_11e9_beb3_d8c497c31645row8_col0\" class=\"data row8 col0\" >Singapore</td>\n",
       "                        <td id=\"T_1e8749e6_dd51_11e9_beb3_d8c497c31645row8_col1\" class=\"data row8 col1\" >43</td>\n",
       "            </tr>\n",
       "            <tr>\n",
       "                        <th id=\"T_1e8749e6_dd51_11e9_beb3_d8c497c31645level0_row9\" class=\"row_heading level0 row9\" >20</th>\n",
       "                        <td id=\"T_1e8749e6_dd51_11e9_beb3_d8c497c31645row9_col0\" class=\"data row9 col0\" >USA</td>\n",
       "                        <td id=\"T_1e8749e6_dd51_11e9_beb3_d8c497c31645row9_col1\" class=\"data row9 col1\" >40</td>\n",
       "            </tr>\n",
       "            <tr>\n",
       "                        <th id=\"T_1e8749e6_dd51_11e9_beb3_d8c497c31645level0_row10\" class=\"row_heading level0 row10\" >19</th>\n",
       "                        <td id=\"T_1e8749e6_dd51_11e9_beb3_d8c497c31645row10_col0\" class=\"data row10 col0\" >Ukraine</td>\n",
       "                        <td id=\"T_1e8749e6_dd51_11e9_beb3_d8c497c31645row10_col1\" class=\"data row10 col1\" >26</td>\n",
       "            </tr>\n",
       "            <tr>\n",
       "                        <th id=\"T_1e8749e6_dd51_11e9_beb3_d8c497c31645level0_row11\" class=\"row_heading level0 row11\" >17</th>\n",
       "                        <td id=\"T_1e8749e6_dd51_11e9_beb3_d8c497c31645row11_col0\" class=\"data row11 col0\" >South Korea</td>\n",
       "                        <td id=\"T_1e8749e6_dd51_11e9_beb3_d8c497c31645row11_col1\" class=\"data row11 col1\" >26</td>\n",
       "            </tr>\n",
       "            <tr>\n",
       "                        <th id=\"T_1e8749e6_dd51_11e9_beb3_d8c497c31645level0_row12\" class=\"row_heading level0 row12\" >0</th>\n",
       "                        <td id=\"T_1e8749e6_dd51_11e9_beb3_d8c497c31645row12_col0\" class=\"data row12 col0\" >Argentina</td>\n",
       "                        <td id=\"T_1e8749e6_dd51_11e9_beb3_d8c497c31645row12_col1\" class=\"data row12 col1\" >24</td>\n",
       "            </tr>\n",
       "            <tr>\n",
       "                        <th id=\"T_1e8749e6_dd51_11e9_beb3_d8c497c31645level0_row13\" class=\"row_heading level0 row13\" >3</th>\n",
       "                        <td id=\"T_1e8749e6_dd51_11e9_beb3_d8c497c31645row13_col0\" class=\"data row13 col0\" >Chile</td>\n",
       "                        <td id=\"T_1e8749e6_dd51_11e9_beb3_d8c497c31645row13_col1\" class=\"data row13 col1\" >24</td>\n",
       "            </tr>\n",
       "            <tr>\n",
       "                        <th id=\"T_1e8749e6_dd51_11e9_beb3_d8c497c31645level0_row14\" class=\"row_heading level0 row14\" >1</th>\n",
       "                        <td id=\"T_1e8749e6_dd51_11e9_beb3_d8c497c31645row14_col0\" class=\"data row14 col0\" >Belarus</td>\n",
       "                        <td id=\"T_1e8749e6_dd51_11e9_beb3_d8c497c31645row14_col1\" class=\"data row14 col1\" >16</td>\n",
       "            </tr>\n",
       "            <tr>\n",
       "                        <th id=\"T_1e8749e6_dd51_11e9_beb3_d8c497c31645level0_row15\" class=\"row_heading level0 row15\" >14</th>\n",
       "                        <td id=\"T_1e8749e6_dd51_11e9_beb3_d8c497c31645row15_col0\" class=\"data row15 col0\" >Russia</td>\n",
       "                        <td id=\"T_1e8749e6_dd51_11e9_beb3_d8c497c31645row15_col1\" class=\"data row15 col1\" >14</td>\n",
       "            </tr>\n",
       "            <tr>\n",
       "                        <th id=\"T_1e8749e6_dd51_11e9_beb3_d8c497c31645level0_row16\" class=\"row_heading level0 row16\" >6</th>\n",
       "                        <td id=\"T_1e8749e6_dd51_11e9_beb3_d8c497c31645row16_col0\" class=\"data row16 col0\" >Germany</td>\n",
       "                        <td id=\"T_1e8749e6_dd51_11e9_beb3_d8c497c31645row16_col1\" class=\"data row16 col1\" >13</td>\n",
       "            </tr>\n",
       "            <tr>\n",
       "                        <th id=\"T_1e8749e6_dd51_11e9_beb3_d8c497c31645level0_row17\" class=\"row_heading level0 row17\" >7</th>\n",
       "                        <td id=\"T_1e8749e6_dd51_11e9_beb3_d8c497c31645row17_col0\" class=\"data row17 col0\" >Hong Kong</td>\n",
       "                        <td id=\"T_1e8749e6_dd51_11e9_beb3_d8c497c31645row17_col1\" class=\"data row17 col1\" >12</td>\n",
       "            </tr>\n",
       "            <tr>\n",
       "                        <th id=\"T_1e8749e6_dd51_11e9_beb3_d8c497c31645level0_row18\" class=\"row_heading level0 row18\" >18</th>\n",
       "                        <td id=\"T_1e8749e6_dd51_11e9_beb3_d8c497c31645row18_col0\" class=\"data row18 col0\" >Sweden</td>\n",
       "                        <td id=\"T_1e8749e6_dd51_11e9_beb3_d8c497c31645row18_col1\" class=\"data row18 col1\" >8</td>\n",
       "            </tr>\n",
       "            <tr>\n",
       "                        <th id=\"T_1e8749e6_dd51_11e9_beb3_d8c497c31645level0_row19\" class=\"row_heading level0 row19\" >10</th>\n",
       "                        <td id=\"T_1e8749e6_dd51_11e9_beb3_d8c497c31645row19_col0\" class=\"data row19 col0\" >Japan</td>\n",
       "                        <td id=\"T_1e8749e6_dd51_11e9_beb3_d8c497c31645row19_col1\" class=\"data row19 col1\" >5</td>\n",
       "            </tr>\n",
       "            <tr>\n",
       "                        <th id=\"T_1e8749e6_dd51_11e9_beb3_d8c497c31645level0_row20\" class=\"row_heading level0 row20\" >4</th>\n",
       "                        <td id=\"T_1e8749e6_dd51_11e9_beb3_d8c497c31645row20_col0\" class=\"data row20 col0\" >China</td>\n",
       "                        <td id=\"T_1e8749e6_dd51_11e9_beb3_d8c497c31645row20_col1\" class=\"data row20 col1\" >3</td>\n",
       "            </tr>\n",
       "    </tbody></table>"
      ],
      "text/plain": [
       "<pandas.io.formats.style.Styler at 0x187678fd588>"
      ]
     },
     "execution_count": 22,
     "metadata": {},
     "output_type": "execute_result"
    }
   ],
   "source": [
    "country_religion_value.sort_values(by=\"percent\", ascending=False).style.apply(\n",
    "    lambda x: [\n",
    "        \"background: lightgreen\" if x[\"percent\"] in cr_quantile.to_list() else \"\"\n",
    "        for i in x\n",
    "    ],\n",
    "    axis=1,\n",
    ")"
   ]
  },
  {
   "cell_type": "code",
   "execution_count": 23,
   "metadata": {},
   "outputs": [
    {
     "data": {
      "text/plain": [
       "<matplotlib.axes._subplots.AxesSubplot at 0x18767cc3dd8>"
      ]
     },
     "execution_count": 23,
     "metadata": {},
     "output_type": "execute_result"
    },
    {
     "data": {
      "image/png": "[encoded data removed]",
      "text/plain": [
       "<Figure size 432x288 with 1 Axes>"
      ]
     },
     "metadata": {
      "needs_background": "light"
     },
     "output_type": "display_data"
    }
   ],
   "source": [
    "country_religion_value.plot.box()"
   ]
  },
  {
   "cell_type": "code",
   "execution_count": null,
   "metadata": {},
   "outputs": [],
   "source": []
  }
 ],
 "metadata": {
  "kernelspec": {
   "display_name": "Python 3",
   "language": "python",
   "name": "python3"
  },
  "language_info": {
   "codemirror_mode": {
    "name": "ipython",
    "version": 3
   },
   "file_extension": ".py",
   "mimetype": "text/x-python",
   "name": "python",
   "nbconvert_exporter": "python",
   "pygments_lexer": "ipython3",
   "version": "3.7.3"
  }
 },
 "nbformat": 4,
 "nbformat_minor": 2
}
